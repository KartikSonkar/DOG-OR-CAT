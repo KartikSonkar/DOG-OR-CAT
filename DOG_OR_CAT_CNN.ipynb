{
 "nbformat": 4,
 "nbformat_minor": 0,
 "metadata": {
  "colab": {
   "provenance": []
  },
  "kernelspec": {
   "name": "python3",
   "display_name": "Python 3 (ipykernel)",
   "language": "python"
  },
  "language_info": {
   "name": "python"
  }
 },
 "cells": [
  {
   "cell_type": "code",
   "metadata": {
    "id": "C878cqSp_1Pl",
    "ExecuteTime": {
     "end_time": "2024-05-18T13:24:14.517618Z",
     "start_time": "2024-05-18T13:24:14.497811Z"
    }
   },
   "source": [
    "import tensorflow as tf\n",
    "from keras.preprocessing.image import ImageDataGenerator"
   ],
   "outputs": [],
   "execution_count": 17
  },
  {
   "cell_type": "code",
   "source": [
    "tf.__version__"
   ],
   "metadata": {
    "colab": {
     "base_uri": "https://localhost:8080/",
     "height": 35
    },
    "id": "TowUGTDBBlKI",
    "outputId": "f6abb79c-2e70-4a34-d065-439cd839baf9",
    "ExecuteTime": {
     "end_time": "2024-05-18T13:24:14.549288Z",
     "start_time": "2024-05-18T13:24:14.529270Z"
    }
   },
   "outputs": [
    {
     "data": {
      "text/plain": [
       "'2.10.0'"
      ]
     },
     "execution_count": 18,
     "metadata": {},
     "output_type": "execute_result"
    }
   ],
   "execution_count": 18
  },
  {
   "cell_type": "code",
   "source": [
    "train_datagen = ImageDataGenerator(\n",
    "    rescale = 1./255,\n",
    "    shear_range = 0.2,\n",
    "    zoom_range = 0.2,\n",
    "    horizontal_flip = True)\n",
    "\n",
    "training_set = train_datagen.flow_from_directory(\n",
    "    'dataset/training_set',\n",
    "     target_size=(64,64),\n",
    "     batch_size = 32,\n",
    "     class_mode = 'binary')"
   ],
   "metadata": {
    "id": "WV-tregjBvtD",
    "ExecuteTime": {
     "end_time": "2024-05-18T13:24:15.158566Z",
     "start_time": "2024-05-18T13:24:14.622032Z"
    }
   },
   "outputs": [
    {
     "name": "stdout",
     "output_type": "stream",
     "text": [
      "Found 8000 images belonging to 2 classes.\n"
     ]
    }
   ],
   "execution_count": 19
  },
  {
   "cell_type": "code",
   "source": [
    "test_datagen = ImageDataGenerator(rescale = 1./255)\n",
    "\n",
    "test_set = test_datagen.flow_from_directory(\n",
    "    'dataset/test_set',\n",
    "     target_size = (64,64),\n",
    "     batch_size = 32,\n",
    "     class_mode = 'binary')"
   ],
   "metadata": {
    "id": "jFVPRzNmGw7s",
    "ExecuteTime": {
     "end_time": "2024-05-18T13:24:15.330681Z",
     "start_time": "2024-05-18T13:24:15.163552Z"
    }
   },
   "outputs": [
    {
     "name": "stdout",
     "output_type": "stream",
     "text": [
      "Found 2000 images belonging to 2 classes.\n"
     ]
    }
   ],
   "execution_count": 20
  },
  {
   "cell_type": "code",
   "source": [
    "cnn = tf.keras.models.Sequential()"
   ],
   "metadata": {
    "id": "tlp9FK2LHmnD",
    "ExecuteTime": {
     "end_time": "2024-05-18T13:24:15.361827Z",
     "start_time": "2024-05-18T13:24:15.333680Z"
    }
   },
   "outputs": [],
   "execution_count": 21
  },
  {
   "cell_type": "code",
   "source": [
    "cnn.add(tf.keras.layers.Conv2D(filters = 32, kernel_size = 3, activation = 'relu', input_shape=[64, 64, 3]))"
   ],
   "metadata": {
    "id": "Q2oMptJFH-09",
    "ExecuteTime": {
     "end_time": "2024-05-18T13:24:15.409137Z",
     "start_time": "2024-05-18T13:24:15.365622Z"
    }
   },
   "outputs": [],
   "execution_count": 22
  },
  {
   "cell_type": "code",
   "source": [
    "cnn.add(tf.keras.layers.MaxPool2D(pool_size = 2, strides=2))"
   ],
   "metadata": {
    "id": "ZlYq06xtH_Jc",
    "ExecuteTime": {
     "end_time": "2024-05-18T13:24:15.441041Z",
     "start_time": "2024-05-18T13:24:15.414751Z"
    }
   },
   "outputs": [],
   "execution_count": 23
  },
  {
   "cell_type": "code",
   "source": [
    "cnn.add(tf.keras.layers.Conv2D(filters = 32, kernel_size = 3, activation = 'relu'))\n",
    "cnn.add(tf.keras.layers.MaxPool2D(pool_size = 2, strides=2))"
   ],
   "metadata": {
    "id": "iYSQFLjtH_MP",
    "ExecuteTime": {
     "end_time": "2024-05-18T13:24:15.502975Z",
     "start_time": "2024-05-18T13:24:15.445332Z"
    }
   },
   "outputs": [],
   "execution_count": 24
  },
  {
   "cell_type": "code",
   "source": [
    "cnn.add(tf.keras.layers.Flatten())"
   ],
   "metadata": {
    "id": "z_Lvh_fiH_On",
    "ExecuteTime": {
     "end_time": "2024-05-18T13:24:15.534046Z",
     "start_time": "2024-05-18T13:24:15.506269Z"
    }
   },
   "outputs": [],
   "execution_count": 25
  },
  {
   "cell_type": "code",
   "source": [
    "cnn.add(tf.keras.layers.Dense(units = 128, activation = 'relu'))"
   ],
   "metadata": {
    "id": "1ZDB6wXXH_SL",
    "ExecuteTime": {
     "end_time": "2024-05-18T13:24:15.579813Z",
     "start_time": "2024-05-18T13:24:15.537659Z"
    }
   },
   "outputs": [],
   "execution_count": 26
  },
  {
   "cell_type": "code",
   "source": [
    "cnn.add(tf.keras.layers.Dense(units = 1, activation = 'sigmoid'))"
   ],
   "metadata": {
    "id": "4vBiZPS4MWDX",
    "ExecuteTime": {
     "end_time": "2024-05-18T13:24:15.610843Z",
     "start_time": "2024-05-18T13:24:15.583134Z"
    }
   },
   "outputs": [],
   "execution_count": 27
  },
  {
   "cell_type": "code",
   "source": [
    "cnn.compile(optimizer = 'adam', loss = 'binary_crossentropy', metrics=['accuracy'])\n"
   ],
   "metadata": {
    "id": "kxnuWlqKMWV0",
    "ExecuteTime": {
     "end_time": "2024-05-18T13:24:15.642103Z",
     "start_time": "2024-05-18T13:24:15.613844Z"
    }
   },
   "outputs": [],
   "execution_count": 28
  },
  {
   "cell_type": "code",
   "source": "cnn.fit(x = training_set, validation_data = test_set, epochs = 25)",
   "metadata": {
    "id": "XLM4ooXTNZ4x",
    "ExecuteTime": {
     "end_time": "2024-05-18T13:58:14.682084Z",
     "start_time": "2024-05-18T13:24:15.646104Z"
    }
   },
   "outputs": [
    {
     "name": "stdout",
     "output_type": "stream",
     "text": [
      "Epoch 1/25\n",
      "250/250 [==============================] - 125s 495ms/step - loss: 0.6714 - accuracy: 0.5785 - val_loss: 0.6307 - val_accuracy: 0.6660\n",
      "Epoch 2/25\n",
      "250/250 [==============================] - 70s 280ms/step - loss: 0.6154 - accuracy: 0.6555 - val_loss: 0.5608 - val_accuracy: 0.7260\n",
      "Epoch 3/25\n",
      "250/250 [==============================] - 70s 280ms/step - loss: 0.5565 - accuracy: 0.7099 - val_loss: 0.5213 - val_accuracy: 0.7460\n",
      "Epoch 4/25\n",
      "250/250 [==============================] - 70s 280ms/step - loss: 0.5220 - accuracy: 0.7415 - val_loss: 0.5079 - val_accuracy: 0.7615\n",
      "Epoch 5/25\n",
      "250/250 [==============================] - 94s 374ms/step - loss: 0.5095 - accuracy: 0.7523 - val_loss: 0.5412 - val_accuracy: 0.7340\n",
      "Epoch 6/25\n",
      "250/250 [==============================] - 155s 618ms/step - loss: 0.4813 - accuracy: 0.7649 - val_loss: 0.5031 - val_accuracy: 0.7635\n",
      "Epoch 7/25\n",
      "250/250 [==============================] - 150s 600ms/step - loss: 0.4649 - accuracy: 0.7806 - val_loss: 0.4781 - val_accuracy: 0.7650\n",
      "Epoch 8/25\n",
      "250/250 [==============================] - 74s 294ms/step - loss: 0.4473 - accuracy: 0.7869 - val_loss: 0.4795 - val_accuracy: 0.7755\n",
      "Epoch 9/25\n",
      "250/250 [==============================] - 73s 290ms/step - loss: 0.4435 - accuracy: 0.7925 - val_loss: 0.5284 - val_accuracy: 0.7665\n",
      "Epoch 10/25\n",
      "250/250 [==============================] - 71s 283ms/step - loss: 0.4225 - accuracy: 0.8025 - val_loss: 0.4707 - val_accuracy: 0.7845\n",
      "Epoch 11/25\n",
      "250/250 [==============================] - 77s 306ms/step - loss: 0.4056 - accuracy: 0.8159 - val_loss: 0.4839 - val_accuracy: 0.7885\n",
      "Epoch 12/25\n",
      "250/250 [==============================] - 76s 303ms/step - loss: 0.3937 - accuracy: 0.8188 - val_loss: 0.4662 - val_accuracy: 0.7800\n",
      "Epoch 13/25\n",
      "250/250 [==============================] - 73s 289ms/step - loss: 0.3862 - accuracy: 0.8238 - val_loss: 0.5078 - val_accuracy: 0.7635\n",
      "Epoch 14/25\n",
      "250/250 [==============================] - 72s 287ms/step - loss: 0.3654 - accuracy: 0.8307 - val_loss: 0.4678 - val_accuracy: 0.7885\n",
      "Epoch 15/25\n",
      "250/250 [==============================] - 71s 285ms/step - loss: 0.3489 - accuracy: 0.8441 - val_loss: 0.4729 - val_accuracy: 0.7900\n",
      "Epoch 16/25\n",
      "250/250 [==============================] - 70s 279ms/step - loss: 0.3381 - accuracy: 0.8457 - val_loss: 0.4853 - val_accuracy: 0.7925\n",
      "Epoch 17/25\n",
      "250/250 [==============================] - 73s 291ms/step - loss: 0.3289 - accuracy: 0.8574 - val_loss: 0.4629 - val_accuracy: 0.8110\n",
      "Epoch 18/25\n",
      "250/250 [==============================] - 72s 287ms/step - loss: 0.3126 - accuracy: 0.8660 - val_loss: 0.4877 - val_accuracy: 0.7875\n",
      "Epoch 19/25\n",
      "250/250 [==============================] - 71s 283ms/step - loss: 0.2915 - accuracy: 0.8726 - val_loss: 0.4798 - val_accuracy: 0.8095\n",
      "Epoch 20/25\n",
      "250/250 [==============================] - 72s 286ms/step - loss: 0.2825 - accuracy: 0.8784 - val_loss: 0.5034 - val_accuracy: 0.7905\n",
      "Epoch 21/25\n",
      "250/250 [==============================] - 74s 296ms/step - loss: 0.2676 - accuracy: 0.8896 - val_loss: 0.5269 - val_accuracy: 0.7940\n",
      "Epoch 22/25\n",
      "250/250 [==============================] - 72s 289ms/step - loss: 0.2622 - accuracy: 0.8910 - val_loss: 0.5015 - val_accuracy: 0.8075\n",
      "Epoch 23/25\n",
      "250/250 [==============================] - 73s 290ms/step - loss: 0.2447 - accuracy: 0.8963 - val_loss: 0.5333 - val_accuracy: 0.7950\n",
      "Epoch 24/25\n",
      "250/250 [==============================] - 70s 279ms/step - loss: 0.2358 - accuracy: 0.9022 - val_loss: 0.5915 - val_accuracy: 0.7750\n",
      "Epoch 25/25\n",
      "250/250 [==============================] - 70s 279ms/step - loss: 0.2180 - accuracy: 0.9121 - val_loss: 0.5745 - val_accuracy: 0.7835\n"
     ]
    },
    {
     "data": {
      "text/plain": [
       "<keras.callbacks.History at 0x183c52281c0>"
      ]
     },
     "execution_count": 29,
     "metadata": {},
     "output_type": "execute_result"
    }
   ],
   "execution_count": 29
  },
  {
   "metadata": {
    "ExecuteTime": {
     "end_time": "2024-05-18T14:21:35.784838Z",
     "start_time": "2024-05-18T14:21:35.562851Z"
    }
   },
   "cell_type": "code",
   "source": [
    "import numpy as np\n",
    "import keras.utils as image\n",
    "test_image = image.load_img('dataset/single_prediction/cat_or_dog_2.jpg', target_size = (64, 64))\n",
    "test_image = image.img_to_array(test_image)\n",
    "test_image = np.expand_dims(test_image, axis = 0)\n",
    "result = cnn.predict(test_image/255.0)\n",
    "training_set.class_indices\n",
    "if result[0][0] > 0.5:\n",
    "    prediction = 'dog'\n",
    "else:\n",
    "    prediction = 'cat'"
   ],
   "outputs": [
    {
     "name": "stdout",
     "output_type": "stream",
     "text": [
      "1/1 [==============================] - 0s 43ms/step\n"
     ]
    }
   ],
   "execution_count": 43
  },
  {
   "metadata": {
    "ExecuteTime": {
     "end_time": "2024-05-18T14:21:36.992427Z",
     "start_time": "2024-05-18T14:21:36.971645Z"
    }
   },
   "cell_type": "code",
   "source": "print(prediction)",
   "outputs": [
    {
     "name": "stdout",
     "output_type": "stream",
     "text": [
      "cat\n"
     ]
    }
   ],
   "execution_count": 44
  },
  {
   "metadata": {},
   "cell_type": "code",
   "outputs": [],
   "execution_count": null,
   "source": ""
  }
 ]
}
